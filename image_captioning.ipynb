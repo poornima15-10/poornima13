{
  "nbformat": 4,
  "nbformat_minor": 0,
  "metadata": {
    "colab": {
      "name": "image_captioning.ipynb",
      "private_outputs": true,
      "provenance": [],
      "include_colab_link": true
    },
    "kernelspec": {
      "name": "python3",
      "display_name": "Python 3"
    },
    "accelerator": "GPU"
  },
  "cells": [
    {
      "cell_type": "markdown",
      "metadata": {
        "id": "view-in-github",
        "colab_type": "text"
      },
      "source": [
        "<a href=\"https://colab.research.google.com/github/poornima15-10/poornima13/blob/main/image_captioning.ipynb\" target=\"_parent\"><img src=\"https://colab.research.google.com/assets/colab-badge.svg\" alt=\"Open In Colab\"/></a>"
      ]
    },
    {
      "cell_type": "code",
      "metadata": {
        "id": "8bGsj_MzeMm5"
      },
      "source": [
        "from google.colab import drive\n",
        "drive.mount('/content/drive')"
      ],
      "execution_count": null,
      "outputs": []
    },
    {
      "cell_type": "code",
      "metadata": {
        "id": "gbK2xVbwedJJ"
      },
      "source": [
        "!unzip -uq \"/content/drive/My Drive/Flickr8k_text.zip\" -d \"/content/drive/My Drive/Flickr8k_text\""
      ],
      "execution_count": null,
      "outputs": []
    },
    {
      "cell_type": "code",
      "metadata": {
        "id": "oioAkI1STuSP"
      },
      "source": [
        "file_data = open(\"/content/drive/My Drive/Flickr8k_text/Flickr8k.token.txt\",'r')\n",
        "image_files = []\n",
        "captions = []\n",
        "for line in file_data.readlines():\n",
        "    spl = line.split(\"#\")\n",
        "    image_files.append(spl[0])\n",
        "    captions.append(str(spl[1]))\n",
        "del file_data"
      ],
      "execution_count": null,
      "outputs": []
    },
    {
      "cell_type": "code",
      "metadata": {
        "id": "IRhTW4AeUO7D"
      },
      "source": [
        "img_cap_dict = {\"images\":image_files,\"captions\":captions}\n"
      ],
      "execution_count": null,
      "outputs": []
    },
    {
      "cell_type": "code",
      "metadata": {
        "id": "i8fFmjgsURSG"
      },
      "source": [
        "import pandas as pd\n",
        "img_cap_df = pd.DataFrame(img_cap_dict,columns=img_cap_dict.keys())"
      ],
      "execution_count": null,
      "outputs": []
    },
    {
      "cell_type": "code",
      "metadata": {
        "id": "RMpwMprEUchM"
      },
      "source": [
        "img_cap_df.head()"
      ],
      "execution_count": null,
      "outputs": []
    },
    {
      "cell_type": "code",
      "metadata": {
        "id": "5f2-r1isVJ8N"
      },
      "source": [
        "# prepare translation table for removing punctuation\n",
        "import string\n",
        "table = str.maketrans('', '', string.punctuation)\n",
        "def clean_captions(caption):\n",
        "    # tokenize\n",
        "    caption = caption.split()\n",
        "    # convert to lower case\n",
        "    caption = [word.lower() for word in caption]\n",
        "    # remove punctuation from each token\n",
        "    caption = [w.translate(table) for w in caption]\n",
        "    # remove hanging 's' and 'a'\n",
        "    caption = [word for word in caption if len(word)>1]\n",
        "    # remove tokens with numbers in them\n",
        "    caption = [word for word in caption if word.isalpha()]\n",
        "    # store as string\n",
        "    return ' '.join(caption)"
      ],
      "execution_count": null,
      "outputs": []
    },
    {
      "cell_type": "code",
      "metadata": {
        "id": "Ngi6Ig0yVSDT"
      },
      "source": [
        "img_cap_df[\"captions\"] = img_cap_df[\"captions\"].apply(lambda x:clean_captions(x))"
      ],
      "execution_count": null,
      "outputs": []
    },
    {
      "cell_type": "code",
      "metadata": {
        "id": "j1G5CVyvWA-Z"
      },
      "source": [
        "img_cap_df[\"captions\"].values[:10]"
      ],
      "execution_count": null,
      "outputs": []
    },
    {
      "cell_type": "code",
      "metadata": {
        "id": "DwlJW3gamVaa"
      },
      "source": [
        "from google.colab import drive\n",
        "drive.mount('/content/drive')"
      ],
      "execution_count": null,
      "outputs": []
    },
    {
      "cell_type": "code",
      "metadata": {
        "id": "8X1nYIbYmeUK"
      },
      "source": [
        "!unzip -uq \"/content/drive/My Drive/Flickr8k_Dataset.zip\" -d \"/content/drive/My Drive/Flickr8k_Dataset\""
      ],
      "execution_count": null,
      "outputs": []
    },
    {
      "cell_type": "code",
      "metadata": {
        "id": "yuDNetcTozB4"
      },
      "source": [
        "import numpy as np\n",
        "from numpy import array\n",
        "\n",
        "import pandas as pd\n",
        "\n",
        "import matplotlib.pyplot as plt\n",
        "%matplotlib inline\n",
        "\n",
        "import string\n",
        "import os\n",
        "from PIL import Image\n",
        "import glob\n",
        "from pickle import dump, load\n",
        "from nltk.translate.bleu_score import corpus_bleu\n",
        "\n",
        "from tensorflow.keras.preprocessing import sequence\n",
        "from keras.preprocessing.text import Tokenizer\n",
        "from tensorflow.keras.models import Sequential\n",
        "from tensorflow.keras.layers import LSTM, Embedding, Bidirectional, TimeDistributed, Dense, RepeatVector, Activation, Flatten, Reshape, concatenate, Dropout, BatchNormalization\n",
        "from tensorflow.keras.optimizers import Adam, RMSprop\n",
        "from tensorflow.keras.applications.inception_v3 import InceptionV3\n",
        "from tensorflow.keras.preprocessing import image\n",
        "from tensorflow.keras.models import Model\n",
        "from tensorflow.keras import Input, layers\n",
        "from tensorflow.keras import optimizers\n",
        "from tensorflow.keras.layers import add\n",
        "from tensorflow.keras.utils import plot_model\n",
        "from tensorflow.keras.callbacks import ModelCheckpoint,EarlyStopping,ReduceLROnPlateau\n",
        "\n",
        "from tensorflow.keras.applications.inception_v3 import preprocess_input\n",
        "from tensorflow.keras.preprocessing.text import Tokenizer\n",
        "from tensorflow.keras.preprocessing.sequence import pad_sequences\n",
        "from tensorflow.keras.utils import to_categorical"
      ],
      "execution_count": null,
      "outputs": []
    },
    {
      "cell_type": "code",
      "metadata": {
        "id": "ytY-VOqFhMtL"
      },
      "source": [
        "print(img_cap_df[\"images\"].values[np.random.randint(img_cap_df.shape[0])])"
      ],
      "execution_count": null,
      "outputs": []
    },
    {
      "cell_type": "code",
      "metadata": {
        "id": "psgxPn2WnD6x"
      },
      "source": [
        "import numpy as np\n",
        "img_file = img_cap_df[\"images\"].values[np.random.randint(img_cap_df.shape[0])]\n",
        "img_caption = img_cap_df[\"captions\"][img_cap_df[\"images\"] == img_file]\n",
        "\n",
        "x=plt.imread(\"/content/drive/My Drive/Flickr8k_Dataset/Flicker8k_Dataset/\"+img_file)\n",
        "plt.imshow(x)\n",
        "plt.show()\n",
        "print(\"############## Image Description ###############\\n\")\n",
        "print(img_caption)\n"
      ],
      "execution_count": null,
      "outputs": []
    }
  ]
}